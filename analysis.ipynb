{
 "cells": [
  {
   "cell_type": "markdown",
   "metadata": {},
   "source": [
    "# wine-country-fires\n",
    "by Priya Krishnakumar\n",
    "\n",
    "This analysis was conducted for the Nov. 7 2019 [Los Angeles Times story](https://www.latimes.com/projects/wine-country-fires-california-sonoma-napa/) which looked at the growing size of fires in California's wine country. "
   ]
  },
  {
   "cell_type": "code",
   "execution_count": 24,
   "metadata": {},
   "outputs": [],
   "source": [
    "import warnings\n",
    "import altair as alt\n",
    "import geopandas as gpd"
   ]
  },
  {
   "cell_type": "code",
   "execution_count": 25,
   "metadata": {},
   "outputs": [],
   "source": [
    "gpd.pd.set_option('display.float_format', lambda x: '%.3f' % x)"
   ]
  },
  {
   "cell_type": "code",
   "execution_count": 26,
   "metadata": {},
   "outputs": [],
   "source": [
    "warnings.simplefilter(\"ignore\")"
   ]
  },
  {
   "cell_type": "code",
   "execution_count": 27,
   "metadata": {},
   "outputs": [],
   "source": [
    "%matplotlib inline"
   ]
  },
  {
   "cell_type": "markdown",
   "metadata": {},
   "source": [
    "This file is a clipped shapefile which shows every fire perimeter in California's wine country after 1950. The data is from Cal Fire's FRAP database of all fire perimeters since the 1800s."
   ]
  },
  {
   "cell_type": "code",
   "execution_count": 28,
   "metadata": {},
   "outputs": [],
   "source": [
    "fires = gpd.read_file(\"data/wine_country_fires_with_2019.shp\")"
   ]
  },
  {
   "cell_type": "code",
   "execution_count": 29,
   "metadata": {},
   "outputs": [
    {
     "name": "stdout",
     "output_type": "stream",
     "text": [
      "<class 'geopandas.geodataframe.GeoDataFrame'>\n",
      "RangeIndex: 879 entries, 0 to 878\n",
      "Data columns (total 9 columns):\n",
      "year          879 non-null int64\n",
      "is_large      874 non-null float64\n",
      "name          842 non-null object\n",
      "total_acre    879 non-null float64\n",
      "winecountr    879 non-null float64\n",
      "start_date    833 non-null object\n",
      "before_200    874 non-null float64\n",
      "dissolve      874 non-null object\n",
      "geometry      879 non-null geometry\n",
      "dtypes: float64(4), geometry(1), int64(1), object(3)\n",
      "memory usage: 61.9+ KB\n"
     ]
    }
   ],
   "source": [
    "fires.info()"
   ]
  },
  {
   "cell_type": "code",
   "execution_count": 30,
   "metadata": {},
   "outputs": [
    {
     "data": {
      "text/html": [
       "<div>\n",
       "<style scoped>\n",
       "    .dataframe tbody tr th:only-of-type {\n",
       "        vertical-align: middle;\n",
       "    }\n",
       "\n",
       "    .dataframe tbody tr th {\n",
       "        vertical-align: top;\n",
       "    }\n",
       "\n",
       "    .dataframe thead th {\n",
       "        text-align: right;\n",
       "    }\n",
       "</style>\n",
       "<table border=\"1\" class=\"dataframe\">\n",
       "  <thead>\n",
       "    <tr style=\"text-align: right;\">\n",
       "      <th></th>\n",
       "      <th>year</th>\n",
       "      <th>is_large</th>\n",
       "      <th>name</th>\n",
       "      <th>total_acre</th>\n",
       "      <th>winecountr</th>\n",
       "      <th>start_date</th>\n",
       "      <th>before_200</th>\n",
       "      <th>dissolve</th>\n",
       "      <th>geometry</th>\n",
       "    </tr>\n",
       "  </thead>\n",
       "  <tbody>\n",
       "    <tr>\n",
       "      <th>0</th>\n",
       "      <td>2007</td>\n",
       "      <td>0.000</td>\n",
       "      <td>PEAK</td>\n",
       "      <td>46.322</td>\n",
       "      <td>46.321</td>\n",
       "      <td>2007/07/11 00:00:00.000</td>\n",
       "      <td>0.000</td>\n",
       "      <td>dissolve</td>\n",
       "      <td>POLYGON ((-13608550.878 4632018.124, -13608563...</td>\n",
       "    </tr>\n",
       "    <tr>\n",
       "      <th>1</th>\n",
       "      <td>2007</td>\n",
       "      <td>0.000</td>\n",
       "      <td>MOUNTAIN</td>\n",
       "      <td>49.278</td>\n",
       "      <td>49.281</td>\n",
       "      <td>2007/06/24 00:00:00.000</td>\n",
       "      <td>0.000</td>\n",
       "      <td>dissolve</td>\n",
       "      <td>POLYGON ((-13652152.604 4660763.643, -13652163...</td>\n",
       "    </tr>\n",
       "    <tr>\n",
       "      <th>2</th>\n",
       "      <td>2007</td>\n",
       "      <td>0.000</td>\n",
       "      <td>SPRUCE</td>\n",
       "      <td>129.011</td>\n",
       "      <td>129.039</td>\n",
       "      <td>2007/07/15 00:00:00.000</td>\n",
       "      <td>0.000</td>\n",
       "      <td>dissolve</td>\n",
       "      <td>POLYGON ((-13641823.708 4699137.158, -13641805...</td>\n",
       "    </tr>\n",
       "    <tr>\n",
       "      <th>3</th>\n",
       "      <td>2007</td>\n",
       "      <td>0.000</td>\n",
       "      <td>ROBINSON</td>\n",
       "      <td>121.548</td>\n",
       "      <td>121.602</td>\n",
       "      <td>2007/07/28 00:00:00.000</td>\n",
       "      <td>0.000</td>\n",
       "      <td>dissolve</td>\n",
       "      <td>POLYGON ((-13676996.417 4742135.934, -13676989...</td>\n",
       "    </tr>\n",
       "    <tr>\n",
       "      <th>4</th>\n",
       "      <td>2007</td>\n",
       "      <td>0.000</td>\n",
       "      <td>WEST</td>\n",
       "      <td>36.995</td>\n",
       "      <td>37.003</td>\n",
       "      <td>2007/07/22 00:00:00.000</td>\n",
       "      <td>0.000</td>\n",
       "      <td>dissolve</td>\n",
       "      <td>POLYGON ((-13695317.575 4699277.743, -13695315...</td>\n",
       "    </tr>\n",
       "  </tbody>\n",
       "</table>\n",
       "</div>"
      ],
      "text/plain": [
       "   year  is_large      name  total_acre  winecountr               start_date  \\\n",
       "0  2007     0.000      PEAK      46.322      46.321  2007/07/11 00:00:00.000   \n",
       "1  2007     0.000  MOUNTAIN      49.278      49.281  2007/06/24 00:00:00.000   \n",
       "2  2007     0.000    SPRUCE     129.011     129.039  2007/07/15 00:00:00.000   \n",
       "3  2007     0.000  ROBINSON     121.548     121.602  2007/07/28 00:00:00.000   \n",
       "4  2007     0.000      WEST      36.995      37.003  2007/07/22 00:00:00.000   \n",
       "\n",
       "   before_200  dissolve                                           geometry  \n",
       "0       0.000  dissolve  POLYGON ((-13608550.878 4632018.124, -13608563...  \n",
       "1       0.000  dissolve  POLYGON ((-13652152.604 4660763.643, -13652163...  \n",
       "2       0.000  dissolve  POLYGON ((-13641823.708 4699137.158, -13641805...  \n",
       "3       0.000  dissolve  POLYGON ((-13676996.417 4742135.934, -13676989...  \n",
       "4       0.000  dissolve  POLYGON ((-13695317.575 4699277.743, -13695315...  "
      ]
     },
     "execution_count": 30,
     "metadata": {},
     "output_type": "execute_result"
    }
   ],
   "source": [
    "fires.head()"
   ]
  },
  {
   "cell_type": "code",
   "execution_count": 31,
   "metadata": {},
   "outputs": [],
   "source": [
    "fires[\"before_2000\"] = fires.year.apply(lambda x:x < 2000)"
   ]
  },
  {
   "cell_type": "code",
   "execution_count": 32,
   "metadata": {},
   "outputs": [
    {
     "data": {
      "text/plain": [
       "True     492\n",
       "False    387\n",
       "Name: before_2000, dtype: int64"
      ]
     },
     "execution_count": 32,
     "metadata": {},
     "output_type": "execute_result"
    }
   ],
   "source": [
    "fires.before_2000.value_counts()"
   ]
  },
  {
   "cell_type": "code",
   "execution_count": 33,
   "metadata": {},
   "outputs": [
    {
     "data": {
      "text/plain": [
       "before_2000\n",
       "False   1101322.089\n",
       "True    1011749.927\n",
       "Name: winecountr, dtype: float64"
      ]
     },
     "execution_count": 33,
     "metadata": {},
     "output_type": "execute_result"
    }
   ],
   "source": [
    "fires.groupby(\"before_2000\").winecountr.sum()"
   ]
  },
  {
   "cell_type": "code",
   "execution_count": 34,
   "metadata": {},
   "outputs": [
    {
     "data": {
      "text/html": [
       "<div>\n",
       "<style scoped>\n",
       "    .dataframe tbody tr th:only-of-type {\n",
       "        vertical-align: middle;\n",
       "    }\n",
       "\n",
       "    .dataframe tbody tr th {\n",
       "        vertical-align: top;\n",
       "    }\n",
       "\n",
       "    .dataframe thead th {\n",
       "        text-align: right;\n",
       "    }\n",
       "</style>\n",
       "<table border=\"1\" class=\"dataframe\">\n",
       "  <thead>\n",
       "    <tr style=\"text-align: right;\">\n",
       "      <th></th>\n",
       "      <th>name</th>\n",
       "      <th>year</th>\n",
       "      <th>winecountr</th>\n",
       "      <th>before_2000</th>\n",
       "    </tr>\n",
       "  </thead>\n",
       "  <tbody>\n",
       "    <tr>\n",
       "      <th>869</th>\n",
       "      <td>RANCH</td>\n",
       "      <td>2018</td>\n",
       "      <td>297848.625</td>\n",
       "      <td>False</td>\n",
       "    </tr>\n",
       "    <tr>\n",
       "      <th>479</th>\n",
       "      <td>FORK</td>\n",
       "      <td>1996</td>\n",
       "      <td>82654.686</td>\n",
       "      <td>True</td>\n",
       "    </tr>\n",
       "    <tr>\n",
       "      <th>875</th>\n",
       "      <td>KINCADE</td>\n",
       "      <td>2019</td>\n",
       "      <td>77752.000</td>\n",
       "      <td>False</td>\n",
       "    </tr>\n",
       "    <tr>\n",
       "      <th>786</th>\n",
       "      <td>VALLEY</td>\n",
       "      <td>2015</td>\n",
       "      <td>76098.719</td>\n",
       "      <td>False</td>\n",
       "    </tr>\n",
       "    <tr>\n",
       "      <th>280</th>\n",
       "      <td>MENDENHALL</td>\n",
       "      <td>1987</td>\n",
       "      <td>65523.214</td>\n",
       "      <td>True</td>\n",
       "    </tr>\n",
       "    <tr>\n",
       "      <th>247</th>\n",
       "      <td>C. HANLY</td>\n",
       "      <td>1964</td>\n",
       "      <td>55964.451</td>\n",
       "      <td>True</td>\n",
       "    </tr>\n",
       "    <tr>\n",
       "      <th>834</th>\n",
       "      <td>NUNS</td>\n",
       "      <td>2017</td>\n",
       "      <td>55796.780</td>\n",
       "      <td>False</td>\n",
       "    </tr>\n",
       "    <tr>\n",
       "      <th>782</th>\n",
       "      <td>ROCKY</td>\n",
       "      <td>2015</td>\n",
       "      <td>53339.546</td>\n",
       "      <td>False</td>\n",
       "    </tr>\n",
       "    <tr>\n",
       "      <th>840</th>\n",
       "      <td>ATLAS</td>\n",
       "      <td>2017</td>\n",
       "      <td>51623.269</td>\n",
       "      <td>False</td>\n",
       "    </tr>\n",
       "    <tr>\n",
       "      <th>868</th>\n",
       "      <td>RIVER</td>\n",
       "      <td>2018</td>\n",
       "      <td>48938.734</td>\n",
       "      <td>False</td>\n",
       "    </tr>\n",
       "  </tbody>\n",
       "</table>\n",
       "</div>"
      ],
      "text/plain": [
       "           name  year  winecountr  before_2000\n",
       "869       RANCH  2018  297848.625        False\n",
       "479        FORK  1996   82654.686         True\n",
       "875     KINCADE  2019   77752.000        False\n",
       "786      VALLEY  2015   76098.719        False\n",
       "280  MENDENHALL  1987   65523.214         True\n",
       "247    C. HANLY  1964   55964.451         True\n",
       "834        NUNS  2017   55796.780        False\n",
       "782       ROCKY  2015   53339.546        False\n",
       "840       ATLAS  2017   51623.269        False\n",
       "868       RIVER  2018   48938.734        False"
      ]
     },
     "execution_count": 34,
     "metadata": {},
     "output_type": "execute_result"
    }
   ],
   "source": [
    "fires.sort_values(\"winecountr\",ascending=False).head(10)[[\"name\",\"year\",\"winecountr\",\"before_2000\"]]"
   ]
  },
  {
   "cell_type": "markdown",
   "metadata": {},
   "source": [
    "This separates the fires into before and after 2000, and calculates the new areas that have burned in the region since 2000."
   ]
  },
  {
   "cell_type": "code",
   "execution_count": 35,
   "metadata": {},
   "outputs": [],
   "source": [
    "before_2000 = fires[fires.before_2000]"
   ]
  },
  {
   "cell_type": "code",
   "execution_count": 36,
   "metadata": {},
   "outputs": [],
   "source": [
    "after_2000 = fires[~fires.before_2000]"
   ]
  },
  {
   "cell_type": "code",
   "execution_count": 37,
   "metadata": {},
   "outputs": [],
   "source": [
    "only_after_2000 = gpd.overlay(after_2000, before_2000, how='difference')"
   ]
  },
  {
   "cell_type": "code",
   "execution_count": 38,
   "metadata": {},
   "outputs": [],
   "source": [
    "sqft2acres = lambda sqft: sqft / 43560"
   ]
  },
  {
   "cell_type": "code",
   "execution_count": 39,
   "metadata": {},
   "outputs": [
    {
     "data": {
      "text/plain": [
       "<matplotlib.axes._subplots.AxesSubplot at 0x100563dd0>"
      ]
     },
     "execution_count": 39,
     "metadata": {},
     "output_type": "execute_result"
    },
    {
     "data": {
      "image/png": "[encoded data removed]",
      "text/plain": [
       "<Figure size 432x288 with 1 Axes>"
      ]
     },
     "metadata": {
      "needs_background": "light"
     },
     "output_type": "display_data"
    }
   ],
   "source": [
    "ax = only_after_2000.plot(cmap='tab10')\n",
    "after_2000.plot(ax=ax, facecolor='none', edgecolor='k')\n",
    "before_2000.plot(ax=ax, facecolor='none', edgecolor='k')"
   ]
  },
  {
   "cell_type": "code",
   "execution_count": 40,
   "metadata": {},
   "outputs": [
    {
     "data": {
      "text/plain": [
       "702487.2754703652"
      ]
     },
     "execution_count": 40,
     "metadata": {},
     "output_type": "execute_result"
    }
   ],
   "source": [
    "sqft2acres(only_after_2000.to_crs(epsg=2227).geometry.area.sum())"
   ]
  },
  {
   "cell_type": "code",
   "execution_count": 41,
   "metadata": {},
   "outputs": [
    {
     "data": {
      "text/plain": [
       "1950"
      ]
     },
     "execution_count": 41,
     "metadata": {},
     "output_type": "execute_result"
    }
   ],
   "source": [
    "fires.year.min()"
   ]
  },
  {
   "cell_type": "code",
   "execution_count": 42,
   "metadata": {},
   "outputs": [],
   "source": [
    "before_2000.to_file(\"before-2000.geojson\",driver=\"GeoJSON\")"
   ]
  },
  {
   "cell_type": "code",
   "execution_count": 43,
   "metadata": {},
   "outputs": [],
   "source": [
    "after_2000.to_file(\"after-2000.geojson\",driver=\"GeoJSON\")"
   ]
  },
  {
   "cell_type": "code",
   "execution_count": 44,
   "metadata": {},
   "outputs": [],
   "source": [
    "only_after_2000.to_file(\"only-after-2000.geojson\",driver=\"GeoJSON\")"
   ]
  }
 ],
 "metadata": {
  "kernelspec": {
   "display_name": "Python 2",
   "language": "python",
   "name": "python2"
  },
  "language_info": {
   "codemirror_mode": {
    "name": "ipython",
    "version": 2
   },
   "file_extension": ".py",
   "mimetype": "text/x-python",
   "name": "python",
   "nbconvert_exporter": "python",
   "pygments_lexer": "ipython2",
   "version": "2.7.10"
  }
 },
 "nbformat": 4,
 "nbformat_minor": 2
}
